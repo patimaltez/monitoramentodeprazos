{
 "cells": [
  {
   "cell_type": "markdown",
   "metadata": {},
   "source": [
    "Monitoramento de Prazos para Correção de TCC e Provas\n",
    "\n",
    "Vamos ajudar os professores nos prazos a serem cumpridos e na organização dos pdfs que podem ter recebido dos alunos como, por exemplo, provas que foram entregues de forma online."
   ]
  },
  {
   "cell_type": "markdown",
   "metadata": {},
   "source": [
    "Etapa 1: Preparando o ambiente"
   ]
  },
  {
   "cell_type": "code",
   "execution_count": 1,
   "metadata": {},
   "outputs": [],
   "source": [
    "# Importando bibliotecas essenciais\n",
    "import os\n",
    "import requests\n",
    "import shutil  # Para copiar arquivos locais\n",
    "from bs4 import BeautifulSoup"
   ]
  },
  {
   "cell_type": "markdown",
   "metadata": {},
   "source": [
    "Etapa 2: Definir os links e a estrutura de pastas | copiar arquivos"
   ]
  },
  {
   "cell_type": "code",
   "execution_count": null,
   "metadata": {},
   "outputs": [],
   "source": [
    "# Definir os diretórios de origem e destino, edite os diretórios para sua realidade\n",
    "tcc_directory = r'C:\\Users\\Name\\Desktop'\n",
    "provas_directory = r'C:\\Users\\Name\\Downloads'\n",
    "destination_directory = r'C:\\Users\\Name\\Documents\\curso ciencia da computação'\n",
    "\n",
    "# Criar a pasta principal e subpastas, edite o nome das pastas para sua realidade\n",
    "tcc_dest_dir = os.path.join(destination_directory, 'TCC')\n",
    "provas_dest_dir = os.path.join(destination_directory, 'Provas Bimestrais')\n",
    "\n",
    "# Garantir que os diretórios de destino existam\n",
    "os.makedirs(tcc_dest_dir, exist_ok=True)\n",
    "os.makedirs(provas_dest_dir, exist_ok=True)\n",
    "\n",
    "# Garantir que os diretórios de origem existam\n",
    "os.makedirs(tcc_directory, exist_ok=True)\n",
    "os.makedirs(provas_directory, exist_ok=True)\n",
    "\n",
    "# Função para copiar PDFs e evitar duplicatas\n",
    "def copy_and_organize_pdfs(source_dir, dest_dir):\n",
    "    # Verificar se o diretório de origem existe\n",
    "    if not os.path.exists(source_dir):\n",
    "        print(f\"O diretório de origem {source_dir} não foi encontrado.\")\n",
    "        return\n",
    "\n",
    "    # Obter a lista de arquivos já existentes na pasta de destino\n",
    "    existing_files = set(os.listdir(dest_dir))\n",
    "    \n",
    "    for file_name in os.listdir(source_dir):\n",
    "        if file_name.lower().endswith('.pdf'):\n",
    "            source_file = os.path.join(source_dir, file_name)\n",
    "            dest_file = os.path.join(dest_dir, file_name)\n",
    "            \n",
    "            try:\n",
    "                if file_name not in existing_files:\n",
    "                    # Copiar o arquivo para o diretório de destino\n",
    "                    shutil.copy(source_file, dest_file)\n",
    "                    print(f\"{file_name} copiado com sucesso para {dest_dir}!\")\n",
    "                    existing_files.add(file_name)  # Adicionar à lista de arquivos existentes\n",
    "                else:\n",
    "                    print(f\"{file_name} já existe em {dest_dir} e foi ignorado.\")\n",
    "            \n",
    "            except FileNotFoundError as e:\n",
    "                print(f\"Erro ao copiar o arquivo {source_file}: {e}\")\n",
    "            except Exception as e:\n",
    "                print(f\"Erro inesperado: {e}\")\n",
    "\n",
    "    # Excluir arquivos do diretório de origem\n",
    "    for file_name in os.listdir(source_dir):\n",
    "        if file_name.lower().endswith('.pdf'):\n",
    "            file_path = os.path.join(source_dir, file_name)\n",
    "            try:\n",
    "                os.remove(file_path)\n",
    "                print(f\"{file_name} excluído do diretório de origem.\")\n",
    "            except FileNotFoundError as e:\n",
    "                print(f\"Erro ao excluir o arquivo {file_path}: {e}\")\n",
    "            except Exception as e:\n",
    "                print(f\"Erro inesperado: {e}\")\n",
    "\n",
    "# Executar a função para ambos os diretórios\n",
    "copy_and_organize_pdfs(tcc_directory, tcc_dest_dir)\n",
    "copy_and_organize_pdfs(provas_directory, provas_dest_dir)"
   ]
  },
  {
   "cell_type": "markdown",
   "metadata": {},
   "source": [
    "Etapa 3: Configuração de Alertas e Notificações para o Professor\n",
    "\n",
    "Adicionar Alertas no Google Calendar e Enviar Notificações por E-mail"
   ]
  },
  {
   "cell_type": "code",
   "execution_count": 4,
   "metadata": {},
   "outputs": [],
   "source": [
    "# Importar bibliotecas necessárias\n",
    "import win32com.client\n",
    "import pythoncom\n",
    "from datetime import datetime, timedelta"
   ]
  },
  {
   "cell_type": "code",
   "execution_count": null,
   "metadata": {},
   "outputs": [],
   "source": [
    "def send_email(subject, body, recipient):\n",
    "    try:\n",
    "        # Inicializar a conexão com o Outlook\n",
    "        outlook = win32com.client.Dispatch(\"Outlook.Application\")\n",
    "        mail = outlook.CreateItem(0)\n",
    "        mail.Subject = subject\n",
    "        mail.Body = body\n",
    "        mail.To = recipient\n",
    "        mail.Send()\n",
    "        print(f\"E-mail enviado para {recipient} com o assunto '{subject}'\")\n",
    "    except Exception as e:\n",
    "        print(f\"Erro ao enviar e-mail: {e}\")\n",
    "\n",
    "def add_event_to_calendar(subject, start_time, end_time, body):\n",
    "    try:\n",
    "        # Inicializar a conexão com o Outlook\n",
    "        outlook = win32com.client.Dispatch(\"Outlook.Application\")\n",
    "        calendar = outlook.GetNamespace(\"MAPI\").GetDefaultFolder(9)  # 9 é a pasta do calendário\n",
    "        appointment = calendar.Items.Add(1)  # 1 indica um compromisso\n",
    "        appointment.Subject = subject\n",
    "        appointment.Start = start_time\n",
    "        appointment.End = end_time\n",
    "        appointment.Body = body\n",
    "        appointment.Save()\n",
    "        print(f\"Evento '{subject}' adicionado ao calendário\")\n",
    "    except Exception as e:\n",
    "        print(f\"Erro ao adicionar evento ao calendário: {e}\")\n",
    "\n",
    "# Data de início e prazo\n",
    "start_date = datetime.now()\n",
    "deadline_date = start_date + timedelta(days=10)\n",
    "halfway_date = start_date + timedelta(days=5)\n",
    "deadline_warning_hours = 24\n",
    "warning_date = deadline_date - timedelta(hours=deadline_warning_hours)\n",
    "\n",
    "# Enviar e-mail de alerta de início\n",
    "send_email(\n",
    "    \"Alerta: Início do Prazo de Correção\",\n",
    "    \"Lembre-se de que o prazo para a correção começou.\",\n",
    "    \"fulano@gmail.com\" # E-mail para o qual o alerta será enviado\n",
    ")\n",
    "\n",
    "# Adicionar eventos à agenda\n",
    "add_event_to_calendar(\n",
    "    \"Início do Prazo de Correção\",\n",
    "    start_date,\n",
    "    start_date + timedelta(hours=1),\n",
    "    \"Lembre-se de que o prazo para a correção começou.\"\n",
    ")\n",
    "add_event_to_calendar(\n",
    "    \"Metade do Prazo de Correção\",\n",
    "    halfway_date,\n",
    "    halfway_date + timedelta(hours=1),\n",
    "    \"Alerta: Você está na metade do prazo para a correção.\"\n",
    ")\n",
    "add_event_to_calendar(\n",
    "    \"Última Chance para Correção\",\n",
    "    warning_date,\n",
    "    warning_date + timedelta(hours=1),\n",
    "    \"Alerta: Faltam 24 horas para o prazo final da correção.\"\n",
    ")"
   ]
  }
 ],
 "metadata": {
  "kernelspec": {
   "display_name": "Python 3",
   "language": "python",
   "name": "python3"
  },
  "language_info": {
   "codemirror_mode": {
    "name": "ipython",
    "version": 3
   },
   "file_extension": ".py",
   "mimetype": "text/x-python",
   "name": "python",
   "nbconvert_exporter": "python",
   "pygments_lexer": "ipython3",
   "version": "3.12.6"
  }
 },
 "nbformat": 4,
 "nbformat_minor": 2
}
